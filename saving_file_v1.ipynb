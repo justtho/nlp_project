{
 "cells": [
  {
   "cell_type": "code",
   "execution_count": null,
   "metadata": {},
   "outputs": [],
   "source": [
    "import bs4 as BeautifulSoup\n",
    "import urllib.request\n",
    "import requests\n",
    "import sys\n",
    "\n",
    "import pandas as pd\n",
    "df = pd.read_csv('sourceurl.csv')\n",
    "urls = df['sourceurl'].unique()\n",
    "\n",
    "for i,url in enumerate(urls):\n",
    "    fetch_data= requests.get(url)\n",
    "\n",
    "#     article_read = fetch_data.read()\n",
    "\n",
    "    article_parsed = BeautifulSoup.BeautifulSoup(fetch_data.text,'html.parser')\n",
    "\n",
    "    #Return Header tags\n",
    "\n",
    "    headers_text = article_parsed.find('h1')\n",
    "    headers = headers_text.text if headers_text else 'N/A'\n",
    "    paragraphs = article_parsed.find_all('p')\n",
    "\n",
    "    article_content = ''\n",
    "\n",
    "    for p in paragraphs:\n",
    "        article_content +=p.text\n",
    "\n",
    "    print(headers)\n",
    "    print(article_content)\n",
    "\n",
    "\n",
    "    file = open(\"site{}.txt\".format(i), 'wb')\n",
    "    file.write(headers.encode())\n",
    "    file.write(article_content.encode())\n",
    "    file.close()"
   ]
  }
 ],
 "metadata": {
  "kernelspec": {
   "display_name": "Python 3",
   "language": "python",
   "name": "python3"
  },
  "language_info": {
   "codemirror_mode": {
    "name": "ipython",
    "version": 3
   },
   "file_extension": ".py",
   "mimetype": "text/x-python",
   "name": "python",
   "nbconvert_exporter": "python",
   "pygments_lexer": "ipython3",
   "version": "3.6.4"
  }
 },
 "nbformat": 4,
 "nbformat_minor": 2
}
